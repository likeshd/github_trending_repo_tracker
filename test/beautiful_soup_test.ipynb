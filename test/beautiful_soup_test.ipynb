{
 "cells": [
  {
   "cell_type": "markdown",
   "metadata": {},
   "source": [
    "Check if scraping is allowed using robots.txt"
   ]
  },
  {
   "cell_type": "code",
   "execution_count": 1,
   "metadata": {},
   "outputs": [],
   "source": [
    "from urllib import robotparser\n",
    "\n",
    "robots_url = \"https://en.wikipedia.org/robots.txt\"\n",
    "rp = robotparser.RobotFileParser()\n",
    "rp.set_url(robots_url)\n",
    "rp.read()"
   ]
  },
  {
   "cell_type": "code",
   "execution_count": 2,
   "metadata": {},
   "outputs": [
    {
     "name": "stdout",
     "output_type": "stream",
     "text": [
      "Allowed to scrape? True\n"
     ]
    }
   ],
   "source": [
    "target = \"https://en.wikipedia.org/wiki/Artificial_intelligence\"\n",
    "print(\"Allowed to scrape?\", rp.can_fetch(\"*\", target))"
   ]
  },
  {
   "cell_type": "markdown",
   "metadata": {},
   "source": [
    "Sending an HTTP GET request"
   ]
  },
  {
   "cell_type": "code",
   "execution_count": 1,
   "metadata": {},
   "outputs": [],
   "source": [
    "import requests"
   ]
  },
  {
   "cell_type": "code",
   "execution_count": 2,
   "metadata": {},
   "outputs": [],
   "source": [
    "url = \"https://en.wikipedia.org/wiki/Artificial_intelligence\"\n",
    "headers = None\n",
    "\n",
    "resp = requests.get(url, headers=headers, timeout=5)"
   ]
  },
  {
   "cell_type": "code",
   "execution_count": 3,
   "metadata": {},
   "outputs": [
    {
     "name": "stdout",
     "output_type": "stream",
     "text": [
      "Status code : 200\n",
      "Content-Type : text/html; charset=UTF-8\n",
      "First 100 char of HTML page : <!DOCTYPE html>\n",
      "<html class=\"client-nojs vector-feature-language-in-header-enabled vector-feature-la\n"
     ]
    }
   ],
   "source": [
    "print(f\"Status code : {resp.status_code}\")\n",
    "print(f\"Content-Type : {resp.headers.get('Content-Type')}\")\n",
    "print(f\"First 100 char of HTML page : {resp.text[:100]}\")"
   ]
  },
  {
   "cell_type": "markdown",
   "metadata": {},
   "source": [
    "Parsing HTML with BeautifulSoup"
   ]
  },
  {
   "cell_type": "code",
   "execution_count": 4,
   "metadata": {},
   "outputs": [],
   "source": [
    "from bs4 import BeautifulSoup"
   ]
  },
  {
   "cell_type": "code",
   "execution_count": 6,
   "metadata": {},
   "outputs": [],
   "source": [
    "# soup = BeautifulSoup(resp.text, \"lxml\")\n",
    "soup = BeautifulSoup(resp.text, \"html.parser\")"
   ]
  },
  {
   "cell_type": "code",
   "execution_count": 8,
   "metadata": {},
   "outputs": [
    {
     "data": {
      "text/plain": [
       "'Artificial intelligence - Wikipedia'"
      ]
     },
     "execution_count": 8,
     "metadata": {},
     "output_type": "execute_result"
    }
   ],
   "source": [
    "soup.title.get_text()"
   ]
  },
  {
   "cell_type": "code",
   "execution_count": null,
   "metadata": {},
   "outputs": [],
   "source": [
    "heading = soup.find(\"h1\", id=\"firstHeading\").get_text(strip=True)\n",
    "print(\"Main heading : \", heading)"
   ]
  },
  {
   "cell_type": "code",
   "execution_count": null,
   "metadata": {},
   "outputs": [],
   "source": [
    "content_div = soup.find(\"div\", id=\"mw-content-text\")\n",
    "\n",
    "first_paragraph = \"\"\n",
    "\n",
    "for p in content_div.find_all(\"p\"):\n",
    "    text = p.get_text(strip=True)\n",
    "    if len(text) > 50:\n",
    "        first_paragraph = text\n",
    "        break\n",
    "\n",
    "print(f\"First paragraph : {first_paragraph}\")"
   ]
  },
  {
   "cell_type": "code",
   "execution_count": null,
   "metadata": {},
   "outputs": [],
   "source": [
    "from urllib.parse import urljoin\n",
    "\n",
    "base = \"https://en.wikipedia.org\"\n",
    "\n",
    "internal_links = set()\n",
    "\n",
    "for a in soup.select(\"#mw-content-text a[href^='/wiki/']\"):\n",
    "    href = a.get('href')\n",
    "    if href and ':' not in href:\n",
    "        full = urljoin(base, href)\n",
    "        internal_links.add(full)\n",
    "\n",
    "print(\"Internal wiki links found: \", len(internal_links))\n",
    "print(\"Sample links: \")\n",
    "for link in internal_links:\n",
    "    print(link)"
   ]
  },
  {
   "cell_type": "code",
   "execution_count": null,
   "metadata": {},
   "outputs": [],
   "source": [
    "import csv\n",
    "out_file = \"ai_wikipedia_summary.csv\"\n",
    "\n",
    "with open(out_file, \"w\", newline=\"\", encoding=\"utf-8\") as f:\n",
    "    writer = csv.writer(f)\n",
    "    writer.writerow([\"field\", \"value\"])\n",
    "    writer.writerow([\"heading\", heading])\n",
    "    writer.writerow([\"first_paragraph\", first_paragraph])\n",
    "    writer.writerow([\"top_internal_links_count\", len(internal_links)])\n",
    "\n",
    "print(\"Saved summary to\", out_file)"
   ]
  }
 ],
 "metadata": {
  "kernelspec": {
   "display_name": "github_star_repo",
   "language": "python",
   "name": "python3"
  },
  "language_info": {
   "codemirror_mode": {
    "name": "ipython",
    "version": 3
   },
   "file_extension": ".py",
   "mimetype": "text/x-python",
   "name": "python",
   "nbconvert_exporter": "python",
   "pygments_lexer": "ipython3",
   "version": "3.11.13"
  }
 },
 "nbformat": 4,
 "nbformat_minor": 2
}
